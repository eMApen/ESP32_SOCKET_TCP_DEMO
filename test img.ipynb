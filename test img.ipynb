{
 "cells": [
  {
   "cell_type": "code",
   "execution_count": 12,
   "metadata": {},
   "outputs": [
    {
     "name": "stdout",
     "output_type": "stream",
     "text": [
      "dc/img0001.jpg\n",
      "37152\n",
      "dc/img0002.jpg\n",
      "37656\n",
      "dc/img0003.jpg\n",
      "38348\n",
      "dc/img0004.jpg\n",
      "37980\n",
      "dc/img0005.jpg\n",
      "36716\n",
      "dc/img0006.jpg\n",
      "35632\n",
      "dc/img0007.jpg\n",
      "35660\n",
      "dc/img0008.jpg\n",
      "34484\n",
      "dc/img0009.jpg\n",
      "32516\n",
      "dc/img0010.jpg\n",
      "32572\n",
      "dc/img0011.jpg\n",
      "30484\n",
      "dc/img0012.jpg\n",
      "30884\n",
      "dc/img0013.jpg\n",
      "29836\n",
      "dc/img0014.jpg\n",
      "31532\n",
      "dc/img0015.jpg\n",
      "33144\n",
      "dc/img0016.jpg\n",
      "37344\n",
      "dc/img0017.jpg\n",
      "41336\n",
      "dc/img0018.jpg\n",
      "43696\n",
      "dc/img0019.jpg\n",
      "44740\n",
      "dc/img0020.jpg\n",
      "45708\n",
      "dc/img0021.jpg\n",
      "43836\n",
      "dc/img0022.jpg\n",
      "45236\n",
      "dc/img0023.jpg\n",
      "45096\n",
      "dc/img0024.jpg\n",
      "44964\n",
      "dc/img0025.jpg\n",
      "45148\n",
      "dc/img0026.jpg\n",
      "47628\n",
      "dc/img0027.jpg\n",
      "51016\n",
      "dc/img0028.jpg\n",
      "53456\n",
      "dc/img0029.jpg\n",
      "55792\n",
      "dc/img0030.jpg\n",
      "55904\n",
      "dc/img0031.jpg\n",
      "55260\n",
      "dc/img0032.jpg\n",
      "54572\n",
      "dc/img0033.jpg\n",
      "53380\n",
      "dc/img0034.jpg\n",
      "53468\n",
      "dc/img0035.jpg\n",
      "51900\n",
      "dc/img0036.jpg\n",
      "52968\n",
      "dc/img0037.jpg\n",
      "54644\n",
      "dc/img0038.jpg\n",
      "54444\n",
      "dc/img0039.jpg\n",
      "54576\n",
      "dc/img0040.jpg\n",
      "53396\n",
      "dc/img0041.jpg\n",
      "51032\n",
      "dc/img0042.jpg\n",
      "53384\n",
      "dc/img0043.jpg\n",
      "54380\n",
      "dc/img0044.jpg\n",
      "54180\n",
      "dc/img0045.jpg\n",
      "52720\n",
      "dc/img0046.jpg\n",
      "52548\n",
      "dc/img0047.jpg\n",
      "52768\n",
      "dc/img0048.jpg\n",
      "53192\n",
      "dc/img0049.jpg\n",
      "52916\n",
      "dc/img0050.jpg\n",
      "52580\n",
      "dc/img0051.jpg\n",
      "52608\n",
      "dc/img0052.jpg\n",
      "51788\n",
      "dc/img0053.jpg\n",
      "50900\n",
      "dc/img0054.jpg\n",
      "49796\n",
      "dc/img0055.jpg\n",
      "47888\n",
      "dc/img0056.jpg\n",
      "49160\n",
      "dc/img0057.jpg\n",
      "48228\n",
      "dc/img0058.jpg\n",
      "47844\n",
      "dc/img0059.jpg\n",
      "45776\n",
      "dc/img0060.jpg\n",
      "45100\n",
      "dc/img0061.jpg\n",
      "42268\n",
      "dc/img0062.jpg\n",
      "39584\n",
      "dc/img0063.jpg\n",
      "39244\n",
      "dc/img0064.jpg\n",
      "37864\n",
      "dc/img0065.jpg\n",
      "36000\n"
     ]
    }
   ],
   "source": [
    "import base64\n",
    "# 图片转字节\n",
    "\n",
    "def load_pic_2b64():\n",
    "\twith open('savetoooobs.txt', 'w') as fp:\n",
    "\t\tfp.write(\"\\n\")\n",
    "\trkk = {0}\n",
    "\tfor i in range(1,66):\n",
    "\t\tname = \"dc/img\"+str(i).rjust(4,'0')+\".jpg\"\n",
    "\t\tprint(name)\n",
    "\n",
    "\t\twith open(name,'rb') as fp:\n",
    "\t\t\ttu = base64.b64encode(fp.read())\n",
    "\t\trt = \"\\\",    \\n\\n\\\"\"\n",
    "\t\twith open('savetoooobs.txt', 'a') as fp:\n",
    "\t\t\tfp.write(rt)\n",
    "\t\tprint(len(tu))\n",
    "\t\t# rkk[i]=len(tu)\n",
    "\t\twith open('savetoooobs.txt', 'ab') as fp:\n",
    "\t\t\tfp.write(tu)\n",
    "\t\t# 生成很长得一串字节流\n",
    "\t\t# print(tu)\n",
    "\t\t# print(rkk)\n",
    "\treturn tu,rkk\n",
    "if __name__ == '__main__':\n",
    "\tsos = load_pic_2b64()"
   ]
  },
  {
   "cell_type": "code",
   "execution_count": 13,
   "metadata": {},
   "outputs": [
    {
     "ename": "FileNotFoundError",
     "evalue": "[WinError 3] 系统找不到指定的路径。: 'bkk'",
     "output_type": "error",
     "traceback": [
      "\u001b[1;31m---------------------------------------------------------------------------\u001b[0m",
      "\u001b[1;31mFileNotFoundError\u001b[0m                         Traceback (most recent call last)",
      "\u001b[1;32m<ipython-input-13-5b0e3b1cc4fb>\u001b[0m in \u001b[0;36m<module>\u001b[1;34m\u001b[0m\n\u001b[0;32m     21\u001b[0m \u001b[1;33m\u001b[0m\u001b[0m\n\u001b[0;32m     22\u001b[0m \u001b[1;32mif\u001b[0m \u001b[0m__name__\u001b[0m \u001b[1;33m==\u001b[0m \u001b[1;34m'__main__'\u001b[0m\u001b[1;33m:\u001b[0m\u001b[1;33m\u001b[0m\u001b[1;33m\u001b[0m\u001b[0m\n\u001b[1;32m---> 23\u001b[1;33m    \u001b[0mmain\u001b[0m\u001b[1;33m(\u001b[0m\u001b[1;33m)\u001b[0m\u001b[1;33m\u001b[0m\u001b[1;33m\u001b[0m\u001b[0m\n\u001b[0m",
      "\u001b[1;32m<ipython-input-13-5b0e3b1cc4fb>\u001b[0m in \u001b[0;36mmain\u001b[1;34m()\u001b[0m\n\u001b[0;32m     18\u001b[0m   \u001b[1;31m# for i in range(1,67):\u001b[0m\u001b[1;33m\u001b[0m\u001b[1;33m\u001b[0m\u001b[1;33m\u001b[0m\u001b[0m\n\u001b[0;32m     19\u001b[0m     \u001b[0mimgFile\u001b[0m \u001b[1;33m=\u001b[0m \u001b[1;34m\"bkk\"\u001b[0m\u001b[1;33m\u001b[0m\u001b[1;33m\u001b[0m\u001b[0m\n\u001b[1;32m---> 20\u001b[1;33m     \u001b[0mjpgToBmp\u001b[0m\u001b[1;33m(\u001b[0m\u001b[0mimgFile\u001b[0m\u001b[1;33m)\u001b[0m\u001b[1;33m\u001b[0m\u001b[1;33m\u001b[0m\u001b[0m\n\u001b[0m\u001b[0;32m     21\u001b[0m \u001b[1;33m\u001b[0m\u001b[0m\n\u001b[0;32m     22\u001b[0m \u001b[1;32mif\u001b[0m \u001b[0m__name__\u001b[0m \u001b[1;33m==\u001b[0m \u001b[1;34m'__main__'\u001b[0m\u001b[1;33m:\u001b[0m\u001b[1;33m\u001b[0m\u001b[1;33m\u001b[0m\u001b[0m\n",
      "\u001b[1;32m<ipython-input-13-5b0e3b1cc4fb>\u001b[0m in \u001b[0;36mjpgToBmp\u001b[1;34m(imgFile)\u001b[0m\n\u001b[0;32m      6\u001b[0m   \u001b[0mdst_dir\u001b[0m \u001b[1;33m=\u001b[0m \u001b[1;34m\"/bkk2\"\u001b[0m\u001b[1;33m\u001b[0m\u001b[1;33m\u001b[0m\u001b[0m\n\u001b[0;32m      7\u001b[0m \u001b[1;33m\u001b[0m\u001b[0m\n\u001b[1;32m----> 8\u001b[1;33m   \u001b[1;32mfor\u001b[0m \u001b[0mfileName\u001b[0m \u001b[1;32min\u001b[0m \u001b[0mos\u001b[0m\u001b[1;33m.\u001b[0m\u001b[0mlistdir\u001b[0m\u001b[1;33m(\u001b[0m\u001b[0mimgFile\u001b[0m\u001b[1;33m)\u001b[0m\u001b[1;33m:\u001b[0m\u001b[1;33m\u001b[0m\u001b[1;33m\u001b[0m\u001b[0m\n\u001b[0m\u001b[0;32m      9\u001b[0m     \u001b[1;32mif\u001b[0m \u001b[0mos\u001b[0m\u001b[1;33m.\u001b[0m\u001b[0mpath\u001b[0m\u001b[1;33m.\u001b[0m\u001b[0msplitext\u001b[0m\u001b[1;33m(\u001b[0m\u001b[0mfileName\u001b[0m\u001b[1;33m)\u001b[0m\u001b[1;33m[\u001b[0m\u001b[1;36m1\u001b[0m\u001b[1;33m]\u001b[0m \u001b[1;33m==\u001b[0m \u001b[1;34m'.jpg'\u001b[0m\u001b[1;33m:\u001b[0m\u001b[1;33m\u001b[0m\u001b[1;33m\u001b[0m\u001b[0m\n\u001b[0;32m     10\u001b[0m       \u001b[0mname\u001b[0m \u001b[1;33m=\u001b[0m \u001b[0mos\u001b[0m\u001b[1;33m.\u001b[0m\u001b[0mpath\u001b[0m\u001b[1;33m.\u001b[0m\u001b[0msplitext\u001b[0m\u001b[1;33m(\u001b[0m\u001b[0mfileName\u001b[0m\u001b[1;33m)\u001b[0m\u001b[1;33m[\u001b[0m\u001b[1;36m0\u001b[0m\u001b[1;33m]\u001b[0m\u001b[1;33m\u001b[0m\u001b[1;33m\u001b[0m\u001b[0m\n",
      "\u001b[1;31mFileNotFoundError\u001b[0m: [WinError 3] 系统找不到指定的路径。: 'bkk'"
     ]
    }
   ],
   "source": [
    "import os\n",
    "from PIL import Image\n",
    "\n",
    "\n",
    "def jpgToBmp(imgFile):\n",
    "  dst_dir = \"/bkk2\"\n",
    "\n",
    "  for fileName in os.listdir(imgFile):\n",
    "    if os.path.splitext(fileName)[1] == '.jpg':\n",
    "      name = os.path.splitext(fileName)[0]\n",
    "      newFileName = name + \".bmp\"\n",
    "\n",
    "      img = Image.open(imgFile + \"/\" + fileName)\n",
    "      img.save(dst_dir+\"/\"+newFileName)\n",
    "\n",
    "\n",
    "def main():\n",
    "  # for i in range(1,67):\n",
    "    imgFile = \"bkk\" \n",
    "    jpgToBmp(imgFile)\n",
    "\n",
    "if __name__ == '__main__':\n",
    "   main()"
   ]
  },
  {
   "cell_type": "code",
   "execution_count": null,
   "metadata": {},
   "outputs": [],
   "source": [
    "print(\"\\\";,\")"
   ]
  },
  {
   "cell_type": "markdown",
   "metadata": {},
   "source": [
    "显然在上面形成超长的字节流……确实是读取成功了"
   ]
  },
  {
   "cell_type": "code",
   "execution_count": null,
   "metadata": {},
   "outputs": [],
   "source": [
    "# 字节转图片\n",
    "# def save_pic_fb64(tu):\n",
    "# \t# 这个就是把上面打印的字节流那过来进行转换图片\n",
    "# \t# 因为转换后字符串很长所以我截取了一部分\n",
    "# \ttu_b = base64.b64decode(tu)\n",
    "# \twith open('tu.png', 'wb') as fp:\n",
    "# \t    fp.write(tu_b)\n",
    "# if __name__ == '__main__':\n",
    "# \tsave_pic_fb64(sos)"
   ]
  },
  {
   "cell_type": "code",
   "execution_count": null,
   "metadata": {},
   "outputs": [],
   "source": [
    "# import binascii\n",
    "# # 加载视频\n",
    "\n",
    "# def load_pic_2b64():\n",
    "# \twith open('badapplem3u8/bao0.ts','rb') as fp:\n",
    "# \t    tu1 = fp.read()\n",
    "# \t# tu = bytes.fromhex(tu1)\n",
    "# \twith open('savetobs.txt', 'wb') as fp:\n",
    "# \t    fp.write(tu1)\n",
    "# \t# 生成很长得一串字节流\n",
    "# \t# print(tu1)\n",
    "# \tprint((len(tu1)))\n",
    "# if __name__ == '__main__':\n",
    "# \tsos = load_pic_2b64()"
   ]
  },
  {
   "cell_type": "code",
   "execution_count": null,
   "metadata": {},
   "outputs": [],
   "source": [
    "# #!/usr/bin python3\n",
    "# #-*-coding=utf-8-*-\n",
    "\n",
    "# def load_pic_2b64():\n",
    "# \twith open('badapplem3u8/bao.m3u8','rb') as fp:\n",
    "# \t    tu1 =fp.read()\n",
    "# \ttu = tu1.hex()\n",
    "# \t# print(tu)\n",
    "# \t# print('0x'.join(tu))\n",
    "# \twb = ',0x'.join([tu[i:i+2] for i in range(0, len(tu), 2)])\n",
    "# \tprint(wb)\n",
    "# \twith open('savetobs.txt', 'w') as fw:\n",
    "# \t\t# wt = tu.encode(\"u8\")\n",
    "# \t    fw.write(wb)\n",
    "# \treturn wb\n",
    "\n",
    "# if __name__ == '__main__':\n",
    "# \tsos=load_pic_2b64()\n"
   ]
  },
  {
   "cell_type": "code",
   "execution_count": null,
   "metadata": {},
   "outputs": [],
   "source": [
    "import os\n",
    "from PIL import Image\n",
    "import matplotlib.pyplot as plt\n",
    "\n",
    "# 打开交互模式\n",
    "plt.ion()\n",
    "fig1 = plt.figure('frame')\n",
    "img = Image.open(os.path.join('recievepic.bmp'))\n",
    "# fig2 = plt.figure('subImg')\n",
    "for i in range(0, 5):\n",
    "\t# 进行自己的处理\n",
    "\n",
    "\t#--------动态显示----------#\n",
    "\tax1 = fig1.add_subplot(1, 1, 1)\n",
    "\tax1.axis('off')  # 关掉坐标轴\n",
    "\tax1.imshow(img, cmap='gray')\n",
    "\t#停顿时间\n",
    "\tplt.pause(0.1)\n",
    "\t#清除当前画布\n",
    "\tfig1.clf()\n",
    "\n",
    "plt.ioff()"
   ]
  },
  {
   "cell_type": "code",
   "execution_count": null,
   "metadata": {},
   "outputs": [
    {
     "name": "stdout",
     "output_type": "stream",
     "text": [
      "recievepic4.bmp\n"
     ]
    }
   ],
   "source": [
    "i = 4\n",
    "nam = 'recievepic'+ str(i) +'.bmp'\n",
    "print(nam)"
   ]
  },
  {
   "cell_type": "code",
   "execution_count": 29,
   "metadata": {},
   "outputs": [
    {
     "name": "stdout",
     "output_type": "stream",
     "text": [
      "!8s3s 11\n"
     ]
    },
    {
     "ename": "error",
     "evalue": "argument for 's' must be a bytes object",
     "output_type": "error",
     "traceback": [
      "\u001b[1;31m---------------------------------------------------------------------------\u001b[0m",
      "\u001b[1;31merror\u001b[0m                                     Traceback (most recent call last)",
      "\u001b[1;32m<ipython-input-29-b36e4b33aa10>\u001b[0m in \u001b[0;36m<module>\u001b[1;34m\u001b[0m\n\u001b[0;32m      4\u001b[0m \u001b[0mprint\u001b[0m\u001b[1;33m(\u001b[0m\u001b[0mfmt\u001b[0m\u001b[1;33m,\u001b[0m\u001b[0mhead_lenth\u001b[0m\u001b[1;33m)\u001b[0m\u001b[1;33m\u001b[0m\u001b[1;33m\u001b[0m\u001b[0m\n\u001b[0;32m      5\u001b[0m \u001b[1;31m#  包长度(short)\u001b[0m\u001b[1;33m\u001b[0m\u001b[1;33m\u001b[0m\u001b[1;33m\u001b[0m\u001b[0m\n\u001b[1;32m----> 6\u001b[1;33m \u001b[0mc\u001b[0m\u001b[1;33m=\u001b[0m\u001b[0mstruct\u001b[0m\u001b[1;33m.\u001b[0m\u001b[0mpack\u001b[0m\u001b[1;33m(\u001b[0m\u001b[0mfmt\u001b[0m\u001b[1;33m,\u001b[0m\u001b[1;36m1215\u001b[0m\u001b[1;33m,\u001b[0m\u001b[1;34m'goo'\u001b[0m\u001b[1;33m.\u001b[0m\u001b[0mencode\u001b[0m\u001b[1;33m(\u001b[0m\u001b[1;33m)\u001b[0m\u001b[1;33m)\u001b[0m\u001b[1;33m\u001b[0m\u001b[1;33m\u001b[0m\u001b[0m\n\u001b[0m\u001b[0;32m      7\u001b[0m \u001b[0mprint\u001b[0m\u001b[1;33m(\u001b[0m\u001b[0mc\u001b[0m\u001b[1;33m)\u001b[0m\u001b[1;33m\u001b[0m\u001b[1;33m\u001b[0m\u001b[0m\n\u001b[0;32m      8\u001b[0m \u001b[0md\u001b[0m\u001b[1;33m=\u001b[0m\u001b[0mstruct\u001b[0m\u001b[1;33m.\u001b[0m\u001b[0munpack\u001b[0m\u001b[1;33m(\u001b[0m\u001b[0mfmt\u001b[0m\u001b[1;33m,\u001b[0m\u001b[0mc\u001b[0m\u001b[1;33m)\u001b[0m\u001b[1;33m\u001b[0m\u001b[1;33m\u001b[0m\u001b[0m\n",
      "\u001b[1;31merror\u001b[0m: argument for 's' must be a bytes object"
     ]
    }
   ],
   "source": [
    "import struct\n",
    "fmt = '!8s3s'\n",
    "head_lenth = struct.calcsize(fmt)\n",
    "print(fmt,head_lenth)\n",
    "#  包长度(short)\n",
    "c=struct.pack(fmt,1215,'goo'.encode()) \n",
    "print(c)\n",
    "d=struct.unpack(fmt,c) \n",
    "q,w = struct.unpack(fmt,c) \n",
    "print(d)\n",
    "print('lenth:',q,'\\nend =',w)\n",
    "# struct pack n unpack"
   ]
  }
 ],
 "metadata": {
  "interpreter": {
   "hash": "e1fc961f9165a3ab500b4ada6f43e4efe7023fb5422da265bbb289b5b15ef2c8"
  },
  "kernelspec": {
   "display_name": "Python 3.8.8 64-bit ('base': conda)",
   "name": "python3"
  },
  "language_info": {
   "codemirror_mode": {
    "name": "ipython",
    "version": 3
   },
   "file_extension": ".py",
   "mimetype": "text/x-python",
   "name": "python",
   "nbconvert_exporter": "python",
   "pygments_lexer": "ipython3",
   "version": "3.8.8"
  },
  "orig_nbformat": 4
 },
 "nbformat": 4,
 "nbformat_minor": 2
}
